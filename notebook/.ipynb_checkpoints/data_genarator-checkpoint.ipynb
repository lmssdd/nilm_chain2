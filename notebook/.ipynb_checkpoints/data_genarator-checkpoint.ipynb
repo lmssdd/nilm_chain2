{
 "cells": [
  {
   "cell_type": "code",
   "execution_count": null,
   "id": "14fe3d75-4abe-4cae-8ef9-d8784d5fd24d",
   "metadata": {},
   "outputs": [],
   "source": [
    "import tarfile\n",
    "\n",
    "t = tarfile.open('..', 'r')"
   ]
  }
 ],
 "metadata": {
  "kernelspec": {
   "display_name": "Python 3 (ipykernel)",
   "language": "python",
   "name": "python3"
  },
  "language_info": {
   "codemirror_mode": {
    "name": "ipython",
    "version": 3
   },
   "file_extension": ".py",
   "mimetype": "text/x-python",
   "name": "python",
   "nbconvert_exporter": "python",
   "pygments_lexer": "ipython3",
   "version": "3.9.7"
  }
 },
 "nbformat": 4,
 "nbformat_minor": 5
}
