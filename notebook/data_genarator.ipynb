{
 "cells": [
  {
   "cell_type": "markdown",
   "id": "3c414156-4b48-4752-8e60-92819a000dc9",
   "metadata": {},
   "source": [
    "### RUN THIS ONLY ONE TIME ###"
   ]
  },
  {
   "cell_type": "markdown",
   "id": "7615ca33-bf12-4fd3-b5c8-a3d085f96e70",
   "metadata": {},
   "source": [
    "## UKDale dataset"
   ]
  },
  {
   "cell_type": "code",
   "execution_count": 1,
   "id": "0938bd63-c3a7-45e8-a09b-4eae4b96a8df",
   "metadata": {},
   "outputs": [],
   "source": [
    "import pandas as pd\n",
    "import sys\n",
    "import warnings\n",
    "warnings.filterwarnings('ignore')\n",
    "\n",
    "sys.path.append('../src/')"
   ]
  },
  {
   "cell_type": "code",
   "execution_count": 2,
   "id": "d74f79ef-2995-4c42-a4be-9d2196b9b792",
   "metadata": {},
   "outputs": [
    {
     "name": "stderr",
     "output_type": "stream",
     "text": [
      "C:\\Users\\Manolo\\Desktop\\nilmtk_c2g\\notebook\\../src\\utils\\preprocessing.py:62: FutureWarning: The pandas.datetime class is deprecated and will be removed from pandas in a future version. Import from datetime module instead.\n",
      "  ds_1_train = ds[0][pd.datetime(2013,4,12):pd.datetime(2014,12,15)]\n",
      "C:\\Users\\Manolo\\Desktop\\nilmtk_c2g\\notebook\\../src\\utils\\preprocessing.py:62: FutureWarning: Indexing a timezone-aware DatetimeIndex with a timezone-naive datetime is deprecated and will raise KeyError in a future version.  Use a timezone-aware object instead.\n",
      "  ds_1_train = ds[0][pd.datetime(2013,4,12):pd.datetime(2014,12,15)]\n",
      "C:\\Users\\Manolo\\Desktop\\nilmtk_c2g\\notebook\\../src\\utils\\preprocessing.py:63: FutureWarning: The pandas.datetime class is deprecated and will be removed from pandas in a future version. Import from datetime module instead.\n",
      "  ds_1_valid = ds[0][pd.datetime(2014,12,15):]\n",
      "C:\\Users\\Manolo\\Desktop\\nilmtk_c2g\\notebook\\../src\\utils\\preprocessing.py:63: FutureWarning: Indexing a timezone-aware DatetimeIndex with a timezone-naive datetime is deprecated and will raise KeyError in a future version.  Use a timezone-aware object instead.\n",
      "  ds_1_valid = ds[0][pd.datetime(2014,12,15):]\n",
      "C:\\Users\\Manolo\\Desktop\\nilmtk_c2g\\notebook\\../src\\utils\\preprocessing.py:64: FutureWarning: The pandas.datetime class is deprecated and will be removed from pandas in a future version. Import from datetime module instead.\n",
      "  ds_2_train = ds[1][pd.datetime(2013,5,22):pd.datetime(2013,10,3,6,16)]\n",
      "C:\\Users\\Manolo\\Desktop\\nilmtk_c2g\\notebook\\../src\\utils\\preprocessing.py:64: FutureWarning: Indexing a timezone-aware DatetimeIndex with a timezone-naive datetime is deprecated and will raise KeyError in a future version.  Use a timezone-aware object instead.\n",
      "  ds_2_train = ds[1][pd.datetime(2013,5,22):pd.datetime(2013,10,3,6,16)]\n",
      "C:\\Users\\Manolo\\Desktop\\nilmtk_c2g\\notebook\\../src\\utils\\preprocessing.py:65: FutureWarning: The pandas.datetime class is deprecated and will be removed from pandas in a future version. Import from datetime module instead.\n",
      "  ds_2_valid = ds[1][pd.datetime(2013,10,3,6,16):]\n",
      "C:\\Users\\Manolo\\Desktop\\nilmtk_c2g\\notebook\\../src\\utils\\preprocessing.py:65: FutureWarning: Indexing a timezone-aware DatetimeIndex with a timezone-naive datetime is deprecated and will raise KeyError in a future version.  Use a timezone-aware object instead.\n",
      "  ds_2_valid = ds[1][pd.datetime(2013,10,3,6,16):]\n",
      "C:\\Users\\Manolo\\Desktop\\nilmtk_c2g\\notebook\\../src\\utils\\preprocessing.py:66: FutureWarning: The pandas.datetime class is deprecated and will be removed from pandas in a future version. Import from datetime module instead.\n",
      "  ds_5_train = ds[2][pd.datetime(2014,6,29,tzinfo=timezone.utc):pd.datetime(2014,9,1,tzinfo=timezone.utc)]\n",
      "C:\\Users\\Manolo\\Desktop\\nilmtk_c2g\\notebook\\../src\\utils\\preprocessing.py:67: FutureWarning: The pandas.datetime class is deprecated and will be removed from pandas in a future version. Import from datetime module instead.\n",
      "  ds_5_valid = ds[2][pd.datetime(2014,9,1,tzinfo=timezone.utc):]\n"
     ]
    }
   ],
   "source": [
    "from utils.preprocessing import get_feather_train_valid\n",
    "store=pd.HDFStore('../data/ukdale/ukdale_h5')\n",
    "get_feather_train_valid_ukdale(store)"
   ]
  },
  {
   "cell_type": "markdown",
   "id": "633e4c1f-15b2-4ae8-86df-bc1614797d40",
   "metadata": {},
   "source": [
    "## REFIT dataset"
   ]
  },
  {
   "cell_type": "code",
   "execution_count": 2,
   "id": "674d6bc1-c4a6-45bd-8475-79c26b943561",
   "metadata": {},
   "outputs": [
    {
     "name": "stderr",
     "output_type": "stream",
     "text": [
      "100%|██████████████████████████████████████████████████████████████████████████████████| 22/22 [11:22<00:00, 31.01s/it]\n"
     ]
    }
   ],
   "source": [
    "from utils.preprocessing import get_feather_refit\n",
    "\n",
    "get_feather_refit()"
   ]
  }
 ],
 "metadata": {
  "kernelspec": {
   "display_name": "Python 3 (ipykernel)",
   "language": "python",
   "name": "python3"
  },
  "language_info": {
   "codemirror_mode": {
    "name": "ipython",
    "version": 3
   },
   "file_extension": ".py",
   "mimetype": "text/x-python",
   "name": "python",
   "nbconvert_exporter": "python",
   "pygments_lexer": "ipython3",
   "version": "3.9.13"
  }
 },
 "nbformat": 4,
 "nbformat_minor": 5
}
