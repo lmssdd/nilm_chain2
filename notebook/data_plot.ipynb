{
 "cells": [
  {
   "cell_type": "code",
   "execution_count": null,
   "id": "0b833aae-43a3-4365-8fdc-77ca455f9b19",
   "metadata": {},
   "outputs": [],
   "source": [
    "import sys\n",
    "import pandas as pd\n",
    "import numpy as np\n",
    "sys.path.append('../src/')"
   ]
  },
  {
   "cell_type": "code",
   "execution_count": null,
   "id": "7f4857db-1e63-46dd-a6c3-0a3a3952e4c6",
   "metadata": {},
   "outputs": [],
   "source": [
    "APPLIANCE = ['fridge', 'dish_washer', 'washing_machine']\n",
    "THRESHOLD = [50., 10., 20.]\n",
    "MIN_ON = [1., 30., 30.]\n",
    "MIN_OFF = [1., 30., 3.]\n",
    "\n",
    "METER = 'aggregate'\n",
    "SEQ_LEN = 60*8\n",
    "BORDER = 16\n",
    "BATCH_SIZE = 32\n",
    "\n",
    "MAX_POWER = 2000."
   ]
  },
  {
   "cell_type": "code",
   "execution_count": null,
   "id": "4455bf62-e388-4f88-9133-c7c2efbd178f",
   "metadata": {},
   "outputs": [],
   "source": [
    "from utils.preprocessing import get_status\n",
    "houses=[1,2,5]\n",
    "original_meter = []\n",
    "ds_appliance = []\n",
    "ds_status = []\n",
    "for i in houses:\n",
    "    ds = pd.read_feather('../data/ukdale/feather_files/UKDALE_%d_train.feather' %(i))\n",
    "    ds.set_index('datetime', inplace=True)\n",
    "  \n",
    "    meter = ds[METER]\n",
    "    appliances = ds[APPLIANCE]\n",
    "    \n",
    "    status = pd.DataFrame()\n",
    "    for a in range(len(APPLIANCE)):\n",
    "        status = pd.concat([status, get_status(ds[APPLIANCE[a]], THRESHOLD[a], MIN_OFF[a], MIN_ON[a])], axis=1)\n",
    "    \n",
    "    original_meter.append(meter)\n",
    "    ds_appliance.append(appliances)\n",
    "    ds_status.append(status)\n",
    "\n",
    "ds_len = [len(original_meter[i]) for i in range(3)]"
   ]
  },
  {
   "cell_type": "markdown",
   "id": "402dba17-c976-496a-8096-cd813652b3f6",
   "metadata": {},
   "source": [
    "#### Filtering"
   ]
  },
  {
   "cell_type": "code",
   "execution_count": null,
   "id": "90f92c42-bcef-46a9-8936-363fd7e34860",
   "metadata": {},
   "outputs": [],
   "source": [
    "from utils.preprocessing import chain2filter\n",
    "THRESHOLDS=[50,100,150,200,250,300]\n",
    "datafilter=[]\n",
    "for threshold in THRESHOLDS:\n",
    "    datafilter.append(chain2filter(original_meter, threshold))"
   ]
  },
  {
   "cell_type": "code",
   "execution_count": null,
   "id": "3fed178c-6179-439a-ad36-219433ffa0ea",
   "metadata": {},
   "outputs": [],
   "source": [
    "import torch\n",
    "from torch.utils.data import Dataset, DataLoader\n",
    "from utils.preprocessing import Power\n",
    "\n",
    "ds_house_total  = [Power(original_meter[i], ds_appliance[i], ds_status[i], \n",
    "                         SEQ_LEN, BORDER, MAX_POWER, False) for i in range(3)]\n",
    "dl_test = DataLoader(dataset = ds_house_total[1], batch_size = 32, shuffle=False)\n",
    "\n",
    "dl_house_test = [DataLoader(dataset = ds_house_total[1], batch_size = 32, shuffle=False)]\n",
    "dl_house_total = [DataLoader(dataset = ds_house_total[i], batch_size = 32, shuffle=False) for i in range(3)]\n",
    "\n",
    "for i in range(6):\n",
    "    globals()[\"ds_house_filter_\" + str(THRESHOLDS[i])] = [Power(datafilter[i][j], ds_appliance[j], ds_status[j], \n",
    "                        SEQ_LEN, BORDER, MAX_POWER, False) for j in range(3)]\n",
    "    globals()[\"dl_house_filter_\" + str(THRESHOLDS[i])] = [DataLoader(dataset = globals()[\"ds_house_filter_\" + str(THRESHOLDS[i])][j], batch_size = 32, shuffle=False) for j in range(3)]"
   ]
  },
  {
   "cell_type": "code",
   "execution_count": 1,
   "id": "b7e27c7e-207d-434d-bca1-549aee0c5262",
   "metadata": {},
   "outputs": [
    {
     "ename": "NameError",
     "evalue": "name 'dl_house_total' is not defined",
     "output_type": "error",
     "traceback": [
      "\u001b[1;31m---------------------------------------------------------------------------\u001b[0m",
      "\u001b[1;31mNameError\u001b[0m                                 Traceback (most recent call last)",
      "\u001b[1;32m~\\AppData\\Local\\Temp/ipykernel_2168/2211583943.py\u001b[0m in \u001b[0;36m<module>\u001b[1;34m\u001b[0m\n\u001b[1;32m----> 1\u001b[1;33m \u001b[0mdataiter\u001b[0m \u001b[1;33m=\u001b[0m \u001b[0miter\u001b[0m\u001b[1;33m(\u001b[0m\u001b[0mdl_house_total\u001b[0m\u001b[1;33m[\u001b[0m\u001b[1;36m1\u001b[0m\u001b[1;33m]\u001b[0m\u001b[1;33m)\u001b[0m\u001b[1;33m\u001b[0m\u001b[1;33m\u001b[0m\u001b[0m\n\u001b[0m\u001b[0;32m      2\u001b[0m \u001b[0mdataiter_filtered_100\u001b[0m \u001b[1;33m=\u001b[0m \u001b[0miter\u001b[0m\u001b[1;33m(\u001b[0m\u001b[0mdl_house_filter_100\u001b[0m\u001b[1;33m[\u001b[0m\u001b[1;36m1\u001b[0m\u001b[1;33m]\u001b[0m\u001b[1;33m)\u001b[0m\u001b[1;33m\u001b[0m\u001b[1;33m\u001b[0m\u001b[0m\n",
      "\u001b[1;31mNameError\u001b[0m: name 'dl_house_total' is not defined"
     ]
    }
   ],
   "source": [
    "dataiter = iter(dl_house_total[1])\n",
    "dataiter_filtered_100 = iter(dl_house_filter_100[1])"
   ]
  },
  {
   "cell_type": "code",
   "execution_count": null,
   "id": "fbb5e8c3-75a6-423e-979a-3e04f31c783a",
   "metadata": {},
   "outputs": [],
   "source": [
    "import matplotlib\n",
    "matplotlib.use('Agg')\n",
    "import matplotlib.pyplot as plt\n",
    "%matplotlib inline\n",
    "\n",
    "plt.figure(figsize=(15,8))\n",
    "#x, y, s = dataiter.next()\n",
    "a = 0\n",
    "for i in range(100):\n",
    "    x, y, s = dataiter.next()\n",
    "    if y[0,:,a].sum() > 0:\n",
    "        break\n",
    "    if s[0,:,a].sum() > 0:\n",
    "        break\n",
    "plt.plot(np.arange(-BORDER, SEQ_LEN + BORDER), x[0,:].detach().numpy(), 'k-')\n",
    "plt.plot(y[0,:,a].detach().numpy())\n",
    "plt.plot(s[0,:,a].detach().numpy())\n",
    "plt.ylim([-0.5,1.5])"
   ]
  },
  {
   "cell_type": "code",
   "execution_count": null,
   "id": "3ec91784-c136-400a-ab21-eaff7e6b1e46",
   "metadata": {},
   "outputs": [],
   "source": [
    "plt.figure(figsize=(15,8))\n",
    "#x, y, s = dataiter.next()\n",
    "a = 2\n",
    "for i in range(100):\n",
    "    x, y, s = dataiter_filtered_100.next()\n",
    "    if y[0,:,a].sum() > 0:\n",
    "        break\n",
    "    if s[0,:,a].sum() > 0:\n",
    "        break\n",
    "plt.plot(np.arange(-BORDER, SEQ_LEN + BORDER), x[0,:].detach().numpy(), 'k-')\n",
    "plt.plot(y[0,:,a].detach().numpy())\n",
    "plt.plot(s[0,:,a].detach().numpy())\n",
    "plt.ylim([-0.5,1.5])"
   ]
  },
  {
   "cell_type": "code",
   "execution_count": null,
   "id": "a1bb25ce-a7bc-44cd-9d7c-15e5dd56316c",
   "metadata": {},
   "outputs": [],
   "source": [
    "pm = (ds_appliance[0].sum() / ds_status[0].sum()).values\n",
    "\n",
    "plt.figure(figsize=(12,8))\n",
    "\n",
    "i = 24*60*600 +60*4\n",
    "\n",
    "x = (ds_meter[0][i-BORDER:i+24*60+BORDER].values / MAX_POWER).copy()\n",
    "x -=x.mean()\n",
    "\n",
    "p = torch.sigmoid(model(torch.from_numpy(x).view(1,1,-1))).permute(0,2,1).cpu().detach().numpy()[0]\n",
    "ds_probs = pd.DataFrame(p, index=ds_meter[0][i:i+24*60].index)\n",
    "\n",
    "s = np.zeros_like(p)\n",
    "for a in range(3):\n",
    "    s[:,a] = get_status(p[:,a], 0.5, MIN_OFF[a], MIN_ON[a])\n",
    "\n",
    "ds_activation = pd.DataFrame(s, index=ds_meter[0][i:i+24*60].index)\n",
    "ds_y = ds_activation * pm\n",
    "\n",
    "#plt.subplots(nrows=2, ncols=1, sharex=True)\n",
    "\n",
    "plt.subplot(2,1,1)\n",
    "plt.plot(ds_meter[0][i:i+24*60], color='k', label='Aggregate')\n",
    "plt.plot(ds_y.index,ds_y[0], label='Fridge')\n",
    "plt.plot(ds_y.index,ds_y[1], label='Dishwasher')\n",
    "plt.plot(ds_y.index,ds_y[2], label='Washing machine')\n",
    "plt.ylabel('Power [W]')\n",
    "plt.legend(loc=2)\n",
    "plt.ylim((0,3500))\n",
    "#plt.xticks([])\n",
    "\n",
    "plt.subplot(2,1,2)\n",
    "plt.plot(ds_appliance[0][i:i+24*60])\n",
    "plt.ylabel('Power [W]')\n",
    "plt.ylim((0,3500))\n",
    "plt.legend(('Fridge', 'Dishwasher', 'Washing machine'), loc=2)"
   ]
  },
  {
   "cell_type": "code",
   "execution_count": null,
   "id": "76683ac4-5b7a-4181-9358-b5ac36aa1013",
   "metadata": {},
   "outputs": [],
   "source": [
    "pm = (ds_appliance[1].sum() / ds_status[1].sum()).values\n",
    "\n",
    "plt.figure(figsize=(12,8))\n",
    "\n",
    "i = 24*60*123 +60*4\n",
    "\n",
    "x = (ds_meter[1][i-BORDER:i+24*60+BORDER].values / MAX_POWER).copy()\n",
    "x -=x.mean()\n",
    "\n",
    "p = torch.sigmoid(model(torch.from_numpy(x).view(1,1,-1))).permute(0,2,1).cpu().detach().numpy()[0]\n",
    "ds_probs = pd.DataFrame(p, index=ds_meter[1][i:i+24*60].index)\n",
    "\n",
    "s = np.zeros_like(p)\n",
    "for a in range(3):\n",
    "    s[:,a] = get_status(p[:,a], 0.5, MIN_OFF[a], MIN_ON[a])\n",
    "\n",
    "ds_activation = pd.DataFrame(s, index=ds_meter[1][i:i+24*60].index)\n",
    "ds_y = ds_activation * pm\n",
    "\n",
    "plt.subplot(2,1,1)\n",
    "plt.plot(ds_meter[1][i:i+24*60], color='k', label='Aggregate')\n",
    "plt.plot(ds_y.index,ds_y[0], label='Fridge')\n",
    "plt.plot(ds_y.index,ds_y[1], label='Dishwasher')\n",
    "plt.plot(ds_y.index,ds_y[2], label='Washing machine')\n",
    "plt.ylabel('Power [W]')\n",
    "plt.legend(loc=2)\n",
    "plt.ylim((0,3500))\n",
    "#plt.xticks([])\n",
    "\n",
    "plt.subplot(2,1,2)\n",
    "plt.plot(ds_appliance[1][i:i+24*60])\n",
    "plt.ylabel('Power [W]')\n",
    "plt.ylim((0,3500))\n",
    "plt.legend(('Fridge', 'Dishwasher', 'Washing machine'), loc=2)"
   ]
  },
  {
   "cell_type": "code",
   "execution_count": null,
   "id": "68b1dc26-2951-465e-946d-1febee8c77a8",
   "metadata": {},
   "outputs": [],
   "source": []
  }
 ],
 "metadata": {
  "kernelspec": {
   "display_name": "Python 3 (ipykernel)",
   "language": "python",
   "name": "python3"
  },
  "language_info": {
   "codemirror_mode": {
    "name": "ipython",
    "version": 3
   },
   "file_extension": ".py",
   "mimetype": "text/x-python",
   "name": "python",
   "nbconvert_exporter": "python",
   "pygments_lexer": "ipython3",
   "version": "3.9.7"
  }
 },
 "nbformat": 4,
 "nbformat_minor": 5
}
